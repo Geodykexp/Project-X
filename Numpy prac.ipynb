{
 "cells": [
  {
   "cell_type": "code",
   "execution_count": null,
   "id": "09dfa687-f1b8-431c-992f-b3815490eb9f",
   "metadata": {},
   "outputs": [],
   "source": [
    "import numpy as np"
   ]
  },
  {
   "cell_type": "code",
   "execution_count": null,
   "id": "239792d5-f1ce-4106-82de-c85ad2d6aa04",
   "metadata": {},
   "outputs": [],
   "source": [
    "lending_co_data_numeric_1 = np.genfromtxt(\"Lending-Company-Numeric-Data.csv\", delimiter = ',')\n",
    "lending_co_data_numeric_1"
   ]
  },
  {
   "cell_type": "code",
   "execution_count": null,
   "id": "4daae30b-f489-406e-8dc6-8e82e2f9f885",
   "metadata": {},
   "outputs": [],
   "source": [
    "np.array_equal(lending_co_data_numeric_1, lending_co_data_numeric_2)"
   ]
  },
  {
   "cell_type": "code",
   "execution_count": null,
   "id": "aabc95b5-57a4-4ac4-9d94-f6ba299b51a3",
   "metadata": {},
   "outputs": [],
   "source": [
    "lending_co_data_numeric_NAN = np.genfromtxt(\"Lending-Company-Numeric-Data.csv\", delimiter = ',')\n",
    "lending_co_data_numeric_NAN"
   ]
  },
  {
   "cell_type": "code",
   "execution_count": null,
   "id": "d309e1c4-0c98-4b5c-84ae-dc289540a6c8",
   "metadata": {},
   "outputs": [],
   "source": [
    "#Partial cleaning while importing"
   ]
  },
  {
   "cell_type": "code",
   "execution_count": null,
   "id": "0edf668a-04b0-4125-84c3-1e9156798826",
   "metadata": {},
   "outputs": [],
   "source": [
    "lending_co_data_numeric_1 = np.loadtxt(\"Lending-Company-Numeric-Data.csv\",\n",
    "                                       delimiter = ',',\n",
    "                                      dtype =np.str)\n",
    "lending_co_data_numeric_1"
   ]
  },
  {
   "cell_type": "code",
   "execution_count": null,
   "id": "12678537-c17f-4470-91fe-733bb3c90427",
   "metadata": {},
   "outputs": [],
   "source": [
    "lending_co_data_numeric_NAN [0,0] + lending_co_data_numeric_NAN [0,1]"
   ]
  },
  {
   "cell_type": "code",
   "execution_count": null,
   "id": "1610c86c-9cd6-4bee-b67b-f123aba61652",
   "metadata": {},
   "outputs": [],
   "source": [
    "lending_co_data_numeric_NAN = np.loadtxt(\"Lending-Company-Numeric-Data.csv\",\n",
    "                                       delimiter = ';',\n",
    "                                       skip_header = 2)\n",
    "lending_co_data_numeric_NAN"
   ]
  },
  {
   "cell_type": "code",
   "execution_count": null,
   "id": "5176d038-7cfc-4c7c-8bd2-84b601b5e311",
   "metadata": {},
   "outputs": [],
   "source": []
  },
  {
   "cell_type": "code",
   "execution_count": null,
   "id": "0df95b29-a44a-486f-b357-94ea3944d0b4",
   "metadata": {},
   "outputs": [],
   "source": [
    "#Import Json files"
   ]
  },
  {
   "cell_type": "code",
   "execution_count": null,
   "id": "95223968-c3bd-4273-a3b4-cef4af7d9956",
   "metadata": {},
   "outputs": [],
   "source": [
    "prices_per_products = '{\"Product A\": 22250, \"Product B\": 16660, \"Product C\": 15600}'\n",
    "prices_per_products"
   ]
  },
  {
   "cell_type": "code",
   "execution_count": null,
   "id": "35ed6ca2-597d-4ff8-a278-8340a3010874",
   "metadata": {},
   "outputs": [],
   "source": [
    "type(prices_per_product)"
   ]
  },
  {
   "cell_type": "code",
   "execution_count": null,
   "id": "0320959d-ed59-402f-afcb-fdff84f5a3d0",
   "metadata": {},
   "outputs": [],
   "source": [
    "import Json"
   ]
  },
  {
   "cell_type": "code",
   "execution_count": null,
   "id": "6dd35fa0-82be-4762-9181-31e3c117195d",
   "metadata": {},
   "outputs": [],
   "source": [
    "parsed_str = Json.loads(prices_per_product)\n",
    "parsed_str"
   ]
  },
  {
   "cell_type": "code",
   "execution_count": null,
   "id": "35944ea2-1fdc-4fbd-a11b-4bb7c03a0e66",
   "metadata": {},
   "outputs": [],
   "source": [
    "type(parsed_str)"
   ]
  },
  {
   "cell_type": "code",
   "execution_count": null,
   "id": "d8555305-de2e-4aa4-879e-a4d5acd55120",
   "metadata": {},
   "outputs": [],
   "source": [
    "import pandas as pd"
   ]
  },
  {
   "cell_type": "code",
   "execution_count": null,
   "id": "616cd4bf-17d5-4e7d-a03a-239931ce11ad",
   "metadata": {},
   "outputs": [],
   "source": [
    "filename = 'Lending-company.xlsx'\n",
    "my_xlsx_data = pd.read excel(filename)\n",
    "# my_csv_data = pd.read_excel(filename, index_col = 'LoanID')\n",
    "my_xlsx_data"
   ]
  },
  {
   "cell_type": "code",
   "execution_count": null,
   "id": "4f3b1c10-00bd-4831-80b9-0c1d4124d8e0",
   "metadata": {},
   "outputs": [],
   "source": [
    "type(my_xlsx_data)"
   ]
  },
  {
   "cell_type": "code",
   "execution_count": null,
   "id": "371cd2b2-3547-451f-b005-05a9fbf6a762",
   "metadata": {},
   "outputs": [],
   "source": [
    "type("
   ]
  },
  {
   "cell_type": "code",
   "execution_count": null,
   "id": "63496959-a869-4704-921e-2033f971559e",
   "metadata": {},
   "outputs": [],
   "source": []
  }
 ],
 "metadata": {
  "kernelspec": {
   "display_name": "Python 3 (ipykernel)",
   "language": "python",
   "name": "python3"
  },
  "language_info": {
   "codemirror_mode": {
    "name": "ipython",
    "version": 3
   },
   "file_extension": ".py",
   "mimetype": "text/x-python",
   "name": "python",
   "nbconvert_exporter": "python",
   "pygments_lexer": "ipython3",
   "version": "3.12.8"
  }
 },
 "nbformat": 4,
 "nbformat_minor": 5
}
