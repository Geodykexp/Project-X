{
 "cells": [
  {
   "cell_type": "code",
   "execution_count": 6,
   "id": "a1aa1f94-8f5a-41bb-b016-c0060943e484",
   "metadata": {},
   "outputs": [
    {
     "name": "stdout",
     "output_type": "stream",
     "text": [
      "IkennaIkennaIkennaIkennaIkennaIkennaIkennaIkennaIkennaIkenna\n"
     ]
    }
   ],
   "source": [
    "y = \"Ikenna\" * 10\n",
    "print(y)"
   ]
  },
  {
   "cell_type": "code",
   "execution_count": 8,
   "id": "688ba904-ff17-4a56-980f-c640f373fa87",
   "metadata": {},
   "outputs": [
    {
     "name": "stdout",
     "output_type": "stream",
     "text": [
      "Ikenna\n",
      "Ikenna\n",
      "Ikenna\n",
      "Ikenna\n",
      "Ikenna\n",
      "Ikenna\n",
      "Ikenna\n",
      "Ikenna\n",
      "Ikenna\n",
      "Ikenna\n",
      "Ikenna\n",
      "Ikenna\n",
      "Ikenna\n",
      "Ikenna\n",
      "Ikenna\n",
      "Ikenna\n",
      "Ikenna\n",
      "Ikenna\n",
      "Ikenna\n",
      "Ikenna\n",
      "Ikenna\n",
      "Ikenna\n",
      "Ikenna\n",
      "Ikenna\n",
      "Ikenna\n",
      "Ikenna\n",
      "Ikenna\n",
      "Ikenna\n",
      "Ikenna\n",
      "Ikenna\n",
      "Ikenna\n",
      "Ikenna\n",
      "Ikenna\n",
      "Ikenna\n",
      "Ikenna\n",
      "Ikenna\n",
      "Ikenna\n",
      "Ikenna\n",
      "Ikenna\n",
      "Ikenna\n",
      "Ikenna\n",
      "Ikenna\n",
      "Ikenna\n",
      "Ikenna\n",
      "Ikenna\n",
      "Ikenna\n",
      "Ikenna\n",
      "Ikenna\n",
      "Ikenna\n",
      "Ikenna\n"
     ]
    }
   ],
   "source": [
    "for i in range (50):\n",
    "    print(\"Ikenna\")"
   ]
  },
  {
   "cell_type": "code",
   "execution_count": 9,
   "id": "052bf905-7537-43ca-96c9-51de738f80a9",
   "metadata": {},
   "outputs": [
    {
     "data": {
      "text/plain": [
       "range(0, 5)"
      ]
     },
     "execution_count": 9,
     "metadata": {},
     "output_type": "execute_result"
    }
   ],
   "source": [
    "range(0,5)"
   ]
  },
  {
   "cell_type": "code",
   "execution_count": 10,
   "id": "9bfc4481-4a0d-435c-9581-9a3fcefc44b5",
   "metadata": {},
   "outputs": [
    {
     "name": "stdout",
     "output_type": "stream",
     "text": [
      "range(0, 5)\n"
     ]
    }
   ],
   "source": [
    "print(range(0,5))"
   ]
  },
  {
   "cell_type": "code",
   "execution_count": 13,
   "id": "2f7436ce-6d56-43cd-b82f-2d1496ac5321",
   "metadata": {},
   "outputs": [
    {
     "name": "stdout",
     "output_type": "stream",
     "text": [
      "Yes\n"
     ]
    }
   ],
   "source": [
    "fruit = \"Banana\"\n",
    "if \"a\" in fruit:\n",
    "    print(\"Yes\")\n"
   ]
  },
  {
   "cell_type": "code",
   "execution_count": 14,
   "id": "7807c349-308e-44de-befc-71147ed7ade1",
   "metadata": {},
   "outputs": [
    {
     "name": "stdout",
     "output_type": "stream",
     "text": [
      "i\n",
      "i\n",
      "i\n",
      "i\n",
      "i\n",
      "i\n"
     ]
    }
   ],
   "source": [
    "for i in \"Ikenna\":\n",
    "    print(\"i\")"
   ]
  },
  {
   "cell_type": "code",
   "execution_count": 15,
   "id": "0513fd10-8784-4b1d-8ab3-6e2ab72eb7a6",
   "metadata": {},
   "outputs": [
    {
     "ename": "SyntaxError",
     "evalue": "expected ':' (4212345367.py, line 1)",
     "output_type": "error",
     "traceback": [
      "\u001b[1;36m  Cell \u001b[1;32mIn[15], line 1\u001b[1;36m\u001b[0m\n\u001b[1;33m    for i in range (5)\u001b[0m\n\u001b[1;37m                      ^\u001b[0m\n\u001b[1;31mSyntaxError\u001b[0m\u001b[1;31m:\u001b[0m expected ':'\n"
     ]
    }
   ],
   "source": [
    "for i in range (5)\n",
    "print(i)"
   ]
  },
  {
   "cell_type": "code",
   "execution_count": null,
   "id": "d462de32-cc29-4763-876c-a446dafa70b4",
   "metadata": {},
   "outputs": [],
   "source": [
    "num = 1\n",
    "while num < 9:print(\"Ikenna\")\n",
    "    "
   ]
  }
 ],
 "metadata": {
  "kernelspec": {
   "display_name": "Python 3 (ipykernel)",
   "language": "python",
   "name": "python3"
  },
  "language_info": {
   "codemirror_mode": {
    "name": "ipython",
    "version": 3
   },
   "file_extension": ".py",
   "mimetype": "text/x-python",
   "name": "python",
   "nbconvert_exporter": "python",
   "pygments_lexer": "ipython3",
   "version": "3.12.8"
  }
 },
 "nbformat": 4,
 "nbformat_minor": 5
}
