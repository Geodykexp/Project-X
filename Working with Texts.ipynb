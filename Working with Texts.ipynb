{
 "cells": [
  {
   "cell_type": "code",
   "execution_count": 4,
   "id": "02dfad4a-f4ef-46b0-9782-eff08800df32",
   "metadata": {},
   "outputs": [
    {
     "name": "stdout",
     "output_type": "stream",
     "text": [
      "This item is from product category \"B\".\n"
     ]
    }
   ],
   "source": [
    "product_category = 'B'\n",
    "print('This item is from product category \"%s\".' %product_category)"
   ]
  },
  {
   "cell_type": "code",
   "execution_count": 6,
   "id": "91a9fbd9-22b2-4364-88b6-68dd3bcc02ca",
   "metadata": {},
   "outputs": [
    {
     "name": "stdout",
     "output_type": "stream",
     "text": [
      "This item is from product category \"['A', 'B']\".\n"
     ]
    }
   ],
   "source": [
    "product_category = ['A', 'B']\n",
    "print('This item is from product category \"%s\".' %product_category)"
   ]
  },
  {
   "cell_type": "code",
   "execution_count": 7,
   "id": "f5c22ee3-2443-44ee-a333-37c31e81e457",
   "metadata": {},
   "outputs": [
    {
     "name": "stdout",
     "output_type": "stream",
     "text": [
      "This item is from product category \"600\".\n"
     ]
    }
   ],
   "source": [
    "quantities = [500, 600]\n",
    "print('This item is from product category \"%s\".' %quantities[1])"
   ]
  },
  {
   "cell_type": "code",
   "execution_count": 9,
   "id": "777b0de6-5cd0-4683-a289-76f41c18b44d",
   "metadata": {},
   "outputs": [
    {
     "name": "stdout",
     "output_type": "stream",
     "text": [
      "we currently have 500 available units of this items.\n"
     ]
    }
   ],
   "source": [
    "print(\"we currently have %d available units of this items.\" % quantities[0])"
   ]
  },
  {
   "cell_type": "code",
   "execution_count": 11,
   "id": "0d3caee4-281e-4e69-b8fa-ab840c2596a3",
   "metadata": {},
   "outputs": [
    {
     "name": "stdout",
     "output_type": "stream",
     "text": [
      "This stock costs $60.350000 per share.\n"
     ]
    }
   ],
   "source": [
    "stock_share_price_list = [40.50,60.35]\n",
    "print(\"This stock costs $%f per share.\" %stock_share_price_list[1])"
   ]
  },
  {
   "cell_type": "code",
   "execution_count": 17,
   "id": "a7093acf-349e-406a-ad1a-24b54feed485",
   "metadata": {},
   "outputs": [
    {
     "ename": "SyntaxError",
     "evalue": "incomplete input (15500579.py, line 2)",
     "output_type": "error",
     "traceback": [
      "\u001b[1;36m  Cell \u001b[1;32mIn[17], line 2\u001b[1;36m\u001b[0m\n\u001b[1;33m    print(\"Currently, we have %d units of Category \\\"%s\\\" products in store.\" % (quantities[1],product_category[1])\u001b[0m\n\u001b[1;37m                                                                                                                   ^\u001b[0m\n\u001b[1;31mSyntaxError\u001b[0m\u001b[1;31m:\u001b[0m incomplete input\n"
     ]
    }
   ],
   "source": [
    "i = 1\n",
    "print(\"Currently, we have %d units of Category \\\"%s\\\" products in store.\" % (quantities[1],product_category[1])"
   ]
  },
  {
   "cell_type": "code",
   "execution_count": null,
   "id": "b84e98be-912f-45e3-b9ae-37188b96902b",
   "metadata": {},
   "outputs": [],
   "source": []
  },
  {
   "cell_type": "code",
   "execution_count": null,
   "id": "41676ad4-16a5-4473-9751-4ccb34ba7d53",
   "metadata": {},
   "outputs": [],
   "source": []
  }
 ],
 "metadata": {
  "kernelspec": {
   "display_name": "Python 3 (ipykernel)",
   "language": "python",
   "name": "python3"
  },
  "language_info": {
   "codemirror_mode": {
    "name": "ipython",
    "version": 3
   },
   "file_extension": ".py",
   "mimetype": "text/x-python",
   "name": "python",
   "nbconvert_exporter": "python",
   "pygments_lexer": "ipython3",
   "version": "3.12.8"
  }
 },
 "nbformat": 4,
 "nbformat_minor": 5
}
