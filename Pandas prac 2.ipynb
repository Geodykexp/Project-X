{
 "cells": [
  {
   "cell_type": "code",
   "execution_count": 2,
   "id": "38ddc29c-dc16-486f-ba1d-1931aa2cc557",
   "metadata": {},
   "outputs": [],
   "source": [
    "import pandas as pd"
   ]
  },
  {
   "cell_type": "code",
   "execution_count": null,
   "id": "240e6ceb-b188-4f3c-ae95-5b21115d42ca",
   "metadata": {},
   "outputs": [],
   "source": [
    "data = pd.read_csv('Location.csv', squeeze = True)\n",
    "location_data =  data.copy()\n",
    "location_data.head()"
   ]
  },
  {
   "cell_type": "code",
   "execution_count": null,
   "id": "9c621c97-124d-4cb0-a28f-a170bc0b0283",
   "metadata": {},
   "outputs": [],
   "source": [
    "type(location_data)"
   ]
  },
  {
   "cell_type": "code",
   "execution_count": null,
   "id": "262867ab-6044-4b74-82ae-d202051bb0e4",
   "metadata": {},
   "outputs": [],
   "source": [
    "location_data.describe()"
   ]
  },
  {
   "cell_type": "code",
   "execution_count": null,
   "id": "fb91c171-16f0-4a99-8886-5e86772624ad",
   "metadata": {},
   "outputs": [],
   "source": [
    "len(location_data)"
   ]
  },
  {
   "cell_type": "code",
   "execution_count": null,
   "id": "d37c2b3b-d4a3-4e2f-911d-39f27dc826b8",
   "metadata": {},
   "outputs": [],
   "source": [
    "location_data.nunique()"
   ]
  },
  {
   "cell_type": "code",
   "execution_count": null,
   "id": "bbf102a1-2cc1-4a3b-b168-1cacf15441e3",
   "metadata": {},
   "outputs": [],
   "source": [
    "type(location_data.nunique())"
   ]
  },
  {
   "cell_type": "code",
   "execution_count": null,
   "id": "c775da7e-e13a-40cb-8aa6-a1df30ee6b3a",
   "metadata": {},
   "outputs": [],
   "source": [
    "location_data.unique()"
   ]
  },
  {
   "cell_type": "code",
   "execution_count": null,
   "id": "c482354a-9e90-4e9d-b5c7-82f640af77fd",
   "metadata": {},
   "outputs": [],
   "source": [
    "type(location_data.unique())"
   ]
  },
  {
   "cell_type": "code",
   "execution_count": null,
   "id": "5b026730-b054-43a9-862b-58f791d26c49",
   "metadata": {},
   "outputs": [],
   "source": []
  }
 ],
 "metadata": {
  "kernelspec": {
   "display_name": "Python 3 (ipykernel)",
   "language": "python",
   "name": "python3"
  },
  "language_info": {
   "codemirror_mode": {
    "name": "ipython",
    "version": 3
   },
   "file_extension": ".py",
   "mimetype": "text/x-python",
   "name": "python",
   "nbconvert_exporter": "python",
   "pygments_lexer": "ipython3",
   "version": "3.12.8"
  }
 },
 "nbformat": 4,
 "nbformat_minor": 5
}
