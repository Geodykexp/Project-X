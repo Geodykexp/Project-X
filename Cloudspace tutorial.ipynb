{
 "cells": [
  {
   "cell_type": "code",
   "execution_count": null,
   "id": "4a41d0e8-5ddc-49c6-9ebc-6023505467be",
   "metadata": {},
   "outputs": [],
   "source": [
    "num_1 = 5"
   ]
  },
  {
   "cell_type": "code",
   "execution_count": 5,
   "id": "5b5d1099-275f-49d3-a7ce-fe0191bf5069",
   "metadata": {},
   "outputs": [],
   "source": [
    "num_2 = 6"
   ]
  },
  {
   "cell_type": "code",
   "execution_count": 6,
   "id": "e7999aa8-dfd3-4387-b3c3-55c5d26e9151",
   "metadata": {},
   "outputs": [
    {
     "name": "stdout",
     "output_type": "stream",
     "text": [
      "11\n"
     ]
    }
   ],
   "source": [
    "num_3 = num_1 + num_2\n",
    "print(num_3)"
   ]
  },
  {
   "cell_type": "code",
   "execution_count": 11,
   "id": "7f40d214-7522-44f0-91c4-0525a6de88bb",
   "metadata": {},
   "outputs": [
    {
     "name": "stdout",
     "output_type": "stream",
     "text": [
      "-1\n"
     ]
    }
   ],
   "source": [
    "num_3 = num_1 - num_2\n",
    "print(num_3)"
   ]
  },
  {
   "cell_type": "code",
   "execution_count": 12,
   "id": "78f3d090-af22-4bf5-8eb9-7b7d3f1296e5",
   "metadata": {},
   "outputs": [
    {
     "name": "stdout",
     "output_type": "stream",
     "text": [
      "0.8333333333333334\n"
     ]
    }
   ],
   "source": [
    "num_3 = num_1 /num_2\n",
    "print(num_3)"
   ]
  },
  {
   "cell_type": "code",
   "execution_count": 8,
   "id": "853a946d-f26b-46fd-b50b-b1bc077b8ec2",
   "metadata": {},
   "outputs": [
    {
     "name": "stdout",
     "output_type": "stream",
     "text": [
      "30\n"
     ]
    }
   ],
   "source": [
    "num_3 = num_1 * num_2\n",
    "print(num_3)"
   ]
  },
  {
   "cell_type": "code",
   "execution_count": null,
   "id": "2f929045-a9e9-482e-b6f0-c15169948f96",
   "metadata": {},
   "outputs": [],
   "source": [
    "# this function is for mathematical operation"
   ]
  },
  {
   "cell_type": "code",
   "execution_count": null,
   "id": "9b1fb5a7-05ed-453e-92ff-7ea184592416",
   "metadata": {},
   "outputs": [],
   "source": []
  },
  {
   "cell_type": "markdown",
   "id": "ba2d6c3f-27df-45cd-9365-395a11e145b6",
   "metadata": {},
   "source": [
    "# conditional statements"
   ]
  },
  {
   "cell_type": "code",
   "execution_count": 15,
   "id": "18e903ae-dedb-495e-85ba-5d39c3bde579",
   "metadata": {},
   "outputs": [
    {
     "name": "stdin",
     "output_type": "stream",
     "text": [
      "what is my age 60\n"
     ]
    },
    {
     "name": "stdout",
     "output_type": "stream",
     "text": [
      "Welcome\n"
     ]
    }
   ],
   "source": [
    "age = int(input(\"what is my age\"))\n",
    "if age > 18:\n",
    "    print(\"Welcome\")\n",
    "else:\n",
    "    print(\"You are not allowed\")"
   ]
  },
  {
   "cell_type": "code",
   "execution_count": null,
   "id": "6fcd43b1-f52a-46b7-ace6-5fff6aaa6abb",
   "metadata": {},
   "outputs": [],
   "source": []
  },
  {
   "cell_type": "markdown",
   "id": "a185f4ca-b789-4fd6-b0fd-b68377015f97",
   "metadata": {},
   "source": [
    "# Facebook login page"
   ]
  },
  {
   "cell_type": "code",
   "execution_count": 30,
   "id": "bc5446de-12c8-4d7c-a5ba-a94d6daabdd9",
   "metadata": {},
   "outputs": [
    {
     "name": "stdin",
     "output_type": "stream",
     "text": [
      "Username s\n",
      "Password sa\n"
     ]
    },
    {
     "name": "stdout",
     "output_type": "stream",
     "text": [
      "Incorrect login details\n"
     ]
    }
   ],
   "source": [
    "Username = input(\"Username\")\n",
    "Password = input(\"Password\")\n",
    "Usrname = \"Ikenna\"\n",
    "Pasword = \"12345\"\n",
    "if Username == Usrname and Password == Pasword:\n",
    "    print(\"Welcome to Facebook\")\n",
    "else:\n",
    "    print(\"Incorrect login details\")\n"
   ]
  },
  {
   "cell_type": "code",
   "execution_count": 26,
   "id": "82940175-9bbc-49c5-9e48-8b849f362b53",
   "metadata": {},
   "outputs": [
    {
     "name": "stdin",
     "output_type": "stream",
     "text": [
      "Enter Username Ikenna123\n",
      "Enter Password Qwrt123@woohoo!\n"
     ]
    },
    {
     "name": "stdout",
     "output_type": "stream",
     "text": [
      "Welcome to facebook\n"
     ]
    }
   ],
   "source": [
    "#Facebook database\n",
    "correct_usr = \"Ikenna123\"\n",
    "correct_pass = \"Qwrt123@woohoo!\"\n",
    "#Facebook Login Page\n",
    "username = input(\"Enter Username\")\n",
    "password = input(\"Enter Password\")\n",
    "#Implement the logic for login\n",
    "if username ==correct_usr and password == correct_pass:\n",
    "    print(\"Welcome to facebook\")\n",
    "elif username == correct_usr and password != correct_pass:\n",
    "    print(\"Wrong Password\")\n",
    "elif username != correct_usr and password == correct_pass:\n",
    "    print(\"Invalid Username\")\n",
    "else:\n",
    "    print(\"Both Username and Password are Wrong\")"
   ]
  },
  {
   "cell_type": "code",
   "execution_count": 31,
   "id": "9a087cce-061a-4d69-9f99-5de306a4ed37",
   "metadata": {},
   "outputs": [
    {
     "name": "stdin",
     "output_type": "stream",
     "text": [
      "Enter Username Ikenna123\n",
      "Enter Password Qwrt123\n"
     ]
    },
    {
     "name": "stdout",
     "output_type": "stream",
     "text": [
      "The length should be greater than 8\n"
     ]
    }
   ],
   "source": [
    "#Facebook database\n",
    "correct_usr = \"Ikenna123\"\n",
    "correct_pass = \"Qwrt123@woohoo!\"\n",
    "#Facebook Login Page\n",
    "username = input(\"Enter Username\")\n",
    "password = input(\"Enter Password\")\n",
    "#Implement the logic for login\n",
    "if len(password)>8:\n",
    "    if username ==correct_usr and password == correct_pass:\n",
    "        print(\"Welcome to facebook\")\n",
    "    elif username == correct_usr and password != correct_pass:\n",
    "        print(\"Wrong Password\")\n",
    "    elif username != correct_usr and password == correct_pass:\n",
    "        print(\"Invalid Username\")\n",
    "    else:\n",
    "        print(\"Both Username and Password are Wrong\")\n",
    "else:\n",
    "    print(\"The length should be greater than 8\")"
   ]
  },
  {
   "cell_type": "code",
   "execution_count": 32,
   "id": "67ad8c7f-9fd3-4850-a641-d980fd32af1c",
   "metadata": {},
   "outputs": [
    {
     "name": "stdout",
     "output_type": "stream",
     "text": [
      "110 525\n"
     ]
    }
   ],
   "source": [
    "#Function are not executed unless called.\n",
    "def calculator(num1, num2):\n",
    "    add = num1 + num2 \n",
    "    multiplication = num1 * num2\n",
    "    return add, multiplication\n",
    "\n",
    "addition, product = calculator(5,105)\n",
    "print(addition,product)"
   ]
  },
  {
   "cell_type": "code",
   "execution_count": 3,
   "id": "9b76f72d-fb70-48b6-b5c2-9529318ceb91",
   "metadata": {},
   "outputs": [
    {
     "name": "stdin",
     "output_type": "stream",
     "text": [
      "Username Ikenna \n",
      "Password 12345\n"
     ]
    }
   ],
   "source": [
    "Username = input(\"Username\")\n",
    "Password = input(\"Password\")\n",
    "Usrname = \"Ikenna\"\n",
    "Pasword = 12345"
   ]
  },
  {
   "cell_type": "code",
   "execution_count": 5,
   "id": "40f09ced-99a6-41bf-ab94-a7560bd17039",
   "metadata": {},
   "outputs": [
    {
     "name": "stdout",
     "output_type": "stream",
     "text": [
      "Positive\n"
     ]
    }
   ],
   "source": [
    "num = 5\n",
    "if num > 0:\n",
    "    print('Positive')\n",
    "else:\n",
    "    print('Negative')"
   ]
  },
  {
   "cell_type": "code",
   "execution_count": 6,
   "id": "9d4c1b9e-4e49-4d05-8506-d56d6cf19dca",
   "metadata": {},
   "outputs": [
    {
     "name": "stdout",
     "output_type": "stream",
     "text": [
      "x is between 10 and 20\n"
     ]
    }
   ],
   "source": [
    "x = 15\n",
    "if x > 10:\n",
    "    if x < 20:\n",
    "        print('x is between 10 and 20')"
   ]
  },
  {
   "cell_type": "code",
   "execution_count": 8,
   "id": "713d320b-cfd4-48c9-85bf-aef62ada08af",
   "metadata": {},
   "outputs": [
    {
     "name": "stdout",
     "output_type": "stream",
     "text": [
      "A grade\n"
     ]
    }
   ],
   "source": [
    "x = 85\n",
    "if x >= 80:\n",
    "    print(\"A grade\")\n",
    "elif x >=65:\n",
    "    print(\"B grade\")\n",
    "else:\n",
    "    print(\"F grade\")"
   ]
  },
  {
   "cell_type": "code",
   "execution_count": null,
   "id": "816a7f7f-981e-4708-9193-a2051d333c3c",
   "metadata": {},
   "outputs": [],
   "source": [
    "Username = input(\"Username\")\n",
    "Password = input(\"Password\")\n",
    "Usrname = \"Ikenna\"\n",
    "Pasword = \"12345\"\n",
    "if Username == Usrname and Password == Pasword:\n",
    "    print(\"Welcome to Facebook\")\n",
    "else:\n",
    "    print(\"Incorrect login details\")"
   ]
  },
  {
   "cell_type": "code",
   "execution_count": null,
   "id": "ac00d1b9-0546-47fb-aa22-424fad1e2505",
   "metadata": {},
   "outputs": [],
   "source": [
    "number = int(input(\"Enter number\"))\n",
    "if number % 2 == 0:\n",
    "    print(\"even\")\n",
    "else:\n",
    "    print(\"odd\")"
   ]
  },
  {
   "cell_type": "code",
   "execution_count": 35,
   "id": "8ad13fc3-aa2e-4e18-89b6-391221f061da",
   "metadata": {},
   "outputs": [
    {
     "name": "stdin",
     "output_type": "stream",
     "text": [
      "Enter a number:  9\n"
     ]
    },
    {
     "name": "stdout",
     "output_type": "stream",
     "text": [
      "odd number\n"
     ]
    }
   ],
   "source": [
    "num = int(input(\"Enter a number: \"))  # Get user input and convert to integer\n",
    "if num % 2 == 0:\n",
    "    print(\"even number\")\n",
    "else:\n",
    "    print(\"odd number\")"
   ]
  },
  {
   "cell_type": "code",
   "execution_count": null,
   "id": "79b40b9d-68e4-4f09-9735-b947e9e51348",
   "metadata": {},
   "outputs": [],
   "source": [
    "try:\n",
    "    num = int(input(\"Enter a number: \"))  # Get user input and convert to integer\n",
    "    if num % 2 == 0:\n",
    "        print(\"even number\")\n",
    "    else:\n",
    "        print(\"odd number\")\n",
    "except ValueError:\n",
    "    print(\"Error\")"
   ]
  },
  {
   "cell_type": "code",
   "execution_count": null,
   "id": "ce9d9408-da05-4547-a920-75b83dccf306",
   "metadata": {},
   "outputs": [],
   "source": []
  }
 ],
 "metadata": {
  "kernelspec": {
   "display_name": "Kernel_1",
   "language": "python",
   "name": "kernel_1"
  },
  "language_info": {
   "codemirror_mode": {
    "name": "ipython",
    "version": 3
   },
   "file_extension": ".py",
   "mimetype": "text/x-python",
   "name": "python",
   "nbconvert_exporter": "python",
   "pygments_lexer": "ipython3",
   "version": "3.12.8"
  }
 },
 "nbformat": 4,
 "nbformat_minor": 5
}
