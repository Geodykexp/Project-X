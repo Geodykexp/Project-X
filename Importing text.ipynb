{
 "cells": [
  {
   "cell_type": "code",
   "execution_count": 7,
   "id": "d3579abc-de2c-45cb-846e-6aa1fbc70eb5",
   "metadata": {},
   "outputs": [],
   "source": [
    "filename = \"source.txt\""
   ]
  },
  {
   "cell_type": "code",
   "execution_count": 8,
   "id": "e5bc3db5-47cc-41fc-9a67-d4ea5792067c",
   "metadata": {},
   "outputs": [
    {
     "data": {
      "text/plain": [
       "'source.txt'"
      ]
     },
     "execution_count": 8,
     "metadata": {},
     "output_type": "execute_result"
    }
   ],
   "source": [
    "filename"
   ]
  },
  {
   "cell_type": "code",
   "execution_count": null,
   "id": "73bd6ad1-dc9e-4075-9ff6-c1631fd9ebd8",
   "metadata": {},
   "outputs": [],
   "source": [
    "file = open(filename, 'r')"
   ]
  },
  {
   "cell_type": "code",
   "execution_count": null,
   "id": "d7f16829-d6b0-49ee-9416-1f028d5b7261",
   "metadata": {},
   "outputs": [],
   "source": [
    "file"
   ]
  },
  {
   "cell_type": "code",
   "execution_count": null,
   "id": "b89e65dc-5c3b-4a98-ab1d-fae970e0a2cb",
   "metadata": {},
   "outputs": [],
   "source": [
    "file.read()"
   ]
  },
  {
   "cell_type": "code",
   "execution_count": null,
   "id": "2a4ce661-d698-4233-a845-75269f5d92a1",
   "metadata": {},
   "outputs": [],
   "source": [
    "file = open(filename, mode = 'r')\n",
    "text = file.read()\n",
    "text"
   ]
  },
  {
   "cell_type": "code",
   "execution_count": null,
   "id": "85a4f68b-c3c4-407c-a0e6-4d220244e488",
   "metadata": {},
   "outputs": [],
   "source": []
  },
  {
   "cell_type": "code",
   "execution_count": null,
   "id": "2f5d39da-e76c-44e8-baec-c6b7e5f5b4e0",
   "metadata": {},
   "outputs": [],
   "source": [
    "file.closed"
   ]
  },
  {
   "cell_type": "code",
   "execution_count": null,
   "id": "4cc461a3-df09-4089-8263-a819ce698d27",
   "metadata": {},
   "outputs": [],
   "source": [
    "file.close()"
   ]
  },
  {
   "cell_type": "code",
   "execution_count": null,
   "id": "8e3a8ba5-2ae7-4b35-9ba9-fa85180ddcca",
   "metadata": {},
   "outputs": [],
   "source": [
    "file.close"
   ]
  },
  {
   "cell_type": "code",
   "execution_count": null,
   "id": "c26cc89f-fb90-449b-bc7f-b793832bea4d",
   "metadata": {},
   "outputs": [],
   "source": [
    "filename = \"source.txt\"\n",
    "file = open(filename, 'r')\n",
    "text = file.read()\n",
    "file.closed  # This line just checks if the file is closed (it's not yet)\n",
    "file.close() # This line closes the file\n",
    "file.closed  # This line checks if the file is closed (now it's True)\n",
    "print(text)"
   ]
  },
  {
   "cell_type": "code",
   "execution_count": null,
   "id": "b2272f4c-3d31-4d04-b40f-d55d8279604d",
   "metadata": {},
   "outputs": [],
   "source": []
  },
  {
   "cell_type": "code",
   "execution_count": null,
   "id": "007de836-dedf-463a-bd61-dc66d470dfdb",
   "metadata": {},
   "outputs": [],
   "source": [
    "filename = 'source.txt'"
   ]
  },
  {
   "cell_type": "code",
   "execution_count": null,
   "id": "a1276a95-4038-4067-9b6d-eda285b16cc1",
   "metadata": {},
   "outputs": [],
   "source": [
    "filename = \"source.txt\"\n",
    "file = open(filename, 'r')\n",
    "text = file.read()"
   ]
  },
  {
   "cell_type": "code",
   "execution_count": null,
   "id": "fae55227-5e35-4327-ab15-dfb88bf34696",
   "metadata": {},
   "outputs": [],
   "source": [
    "with open(filename, mode = \"r\") as out_file:\n",
    "    out_file.read()"
   ]
  },
  {
   "cell_type": "code",
   "execution_count": null,
   "id": "7db0ecdf-48b5-4ff4-9260-5e152fa2dfbc",
   "metadata": {},
   "outputs": [],
   "source": [
    "print(text)"
   ]
  },
  {
   "cell_type": "code",
   "execution_count": null,
   "id": "9a6a9a0f-10d1-4a9a-a926-d206535ab101",
   "metadata": {},
   "outputs": [],
   "source": [
    "print(out_file)"
   ]
  },
  {
   "cell_type": "code",
   "execution_count": null,
   "id": "c72bd45c-db64-45a0-adaa-6dc469636bbe",
   "metadata": {},
   "outputs": [],
   "source": [
    "with open('source.txt', 'w') as out_file:\n",
    "    out_file.write(\"it is not so simple anymore\")"
   ]
  },
  {
   "cell_type": "code",
   "execution_count": null,
   "id": "b9f4ea32-e459-46e6-b76c-6789b512fabf",
   "metadata": {},
   "outputs": [],
   "source": [
    "file = open(filename, mode = 'r')\n",
    "text = file.read()\n",
    "file.close()"
   ]
  },
  {
   "cell_type": "code",
   "execution_count": null,
   "id": "cebae63e-c427-4b39-86f9-cef859551815",
   "metadata": {},
   "outputs": [],
   "source": [
    "print(text)"
   ]
  },
  {
   "cell_type": "code",
   "execution_count": null,
   "id": "9ba38fbf-7fb9-46bf-90b0-7624786c0d02",
   "metadata": {},
   "outputs": [],
   "source": [
    "with open(filename, mode = \"r\") as out_file:\n",
    "    new_text = out_file.read()\n",
    "print(new_text)"
   ]
  },
  {
   "cell_type": "code",
   "execution_count": null,
   "id": "b44fc19a-2693-40db-9e1a-b97ea26fc2c2",
   "metadata": {},
   "outputs": [],
   "source": []
  },
  {
   "cell_type": "code",
   "execution_count": null,
   "id": "4d24a1d3-1f18-4f06-b1f3-21e86d3aed09",
   "metadata": {},
   "outputs": [],
   "source": []
  },
  {
   "cell_type": "code",
   "execution_count": null,
   "id": "e2d7393a-c17b-4481-8b43-681b7c3da1a9",
   "metadata": {},
   "outputs": [],
   "source": [
    "filename = 'Lending-company.csv'\n",
    "file = open(filename, mode = 'r')\n",
    "text = file.read()\n",
    "text"
   ]
  },
  {
   "cell_type": "code",
   "execution_count": null,
   "id": "ae095b16-720a-47c5-b09f-6f1f6baaae4d",
   "metadata": {},
   "outputs": [],
   "source": [
    "type(text)"
   ]
  },
  {
   "cell_type": "code",
   "execution_count": null,
   "id": "73801d95-1c7b-4be9-b2e5-357ac331fc10",
   "metadata": {},
   "outputs": [],
   "source": [
    "import pandas as pd"
   ]
  },
  {
   "cell_type": "code",
   "execution_count": null,
   "id": "2841af3b-8744-4862-b4b3-bd9250e7fc04",
   "metadata": {},
   "outputs": [],
   "source": [
    "pd.read_csv('lending-company.csv)"
   ]
  },
  {
   "cell_type": "code",
   "execution_count": null,
   "id": "8461238a-64c3-45cc-bd23-40c0574f10fc",
   "metadata": {},
   "outputs": [],
   "source": [
    "pd.read_csv('lending-company.csv', header = 0)"
   ]
  },
  {
   "cell_type": "code",
   "execution_count": null,
   "id": "2bb8c901-90dc-4dfd-87f9-21e4fb4c7221",
   "metadata": {},
   "outputs": [],
   "source": [
    "type(pd.read_csv())"
   ]
  },
  {
   "cell_type": "code",
   "execution_count": null,
   "id": "a8237343-f8e5-4c6a-87f2-34e713cf57ab",
   "metadata": {},
   "outputs": [],
   "source": []
  },
  {
   "cell_type": "code",
   "execution_count": null,
   "id": "d475fca7-077c-44f9-a28d-ac64c5f6e996",
   "metadata": {},
   "outputs": [],
   "source": [
    "import pandas as pd"
   ]
  },
  {
   "cell_type": "code",
   "execution_count": null,
   "id": "0e168eeb-8a4b-48d2-9e87-0354239d7a44",
   "metadata": {},
   "outputs": [],
   "source": [
    "filename = 'Lending-company.csv'\n",
    "my_csv_data = pd.read_csv(filename)\n",
    "my_csv_data"
   ]
  },
  {
   "cell_type": "code",
   "execution_count": null,
   "id": "8a192f2f-c028-4575-a1d2-59e388a96e0a",
   "metadata": {},
   "outputs": [],
   "source": [
    "type(my_csv_data)"
   ]
  },
  {
   "cell_type": "code",
   "execution_count": null,
   "id": "af02a7f5-13f8-465f-81df-5cc84ea7a2fc",
   "metadata": {},
   "outputs": [],
   "source": [
    "print(my_csv_data)"
   ]
  },
  {
   "cell_type": "code",
   "execution_count": null,
   "id": "17be2f97-3364-417c-8748-490c6bb903f8",
   "metadata": {},
   "outputs": [],
   "source": []
  },
  {
   "cell_type": "code",
   "execution_count": null,
   "id": "4dec64e5-5a64-4a4b-868c-43ff13bf9c9f",
   "metadata": {},
   "outputs": [],
   "source": [
    "import numpy as np"
   ]
  },
  {
   "cell_type": "code",
   "execution_count": null,
   "id": "546ea34c-2a0c-4d36-b88f-7b2cc9650027",
   "metadata": {},
   "outputs": [],
   "source": []
  }
 ],
 "metadata": {
  "kernelspec": {
   "display_name": "Kernel_1",
   "language": "python",
   "name": "kernel_1"
  },
  "language_info": {
   "codemirror_mode": {
    "name": "ipython",
    "version": 3
   },
   "file_extension": ".py",
   "mimetype": "text/x-python",
   "name": "python",
   "nbconvert_exporter": "python",
   "pygments_lexer": "ipython3",
   "version": "3.12.8"
  }
 },
 "nbformat": 4,
 "nbformat_minor": 5
}
