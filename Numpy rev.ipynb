{
 "cells": [
  {
   "cell_type": "code",
   "execution_count": null,
   "id": "64e16d0e-1ce8-4168-8857-1a89bb0bf2b2",
   "metadata": {},
   "outputs": [],
   "source": [
    "import numpy as np"
   ]
  },
  {
   "cell_type": "code",
   "execution_count": null,
   "id": "3595ab42-ddfa-4ddd-bbf7-bd987de436b9",
   "metadata": {},
   "outputs": [],
   "source": [
    "array_a = np.array([[1,2,3],[4,5,6]])\n",
    "print(array_a)"
   ]
  },
  {
   "cell_type": "code",
   "execution_count": null,
   "id": "e90829b0-7065-4f52-8475-cfb1ab1974be",
   "metadata": {},
   "outputs": [],
   "source": [
    "array_a[0]"
   ]
  },
  {
   "cell_type": "code",
   "execution_count": null,
   "id": "de9e74f7-3c78-4ae9-9289-f264401dcb1e",
   "metadata": {},
   "outputs": [],
   "source": [
    "array_a[1]"
   ]
  },
  {
   "cell_type": "code",
   "execution_count": null,
   "id": "88fae5ae-e236-4367-8173-d059ff834085",
   "metadata": {},
   "outputs": [],
   "source": [
    "array_a[1,0]"
   ]
  },
  {
   "cell_type": "code",
   "execution_count": null,
   "id": "490a9c6d-668e-4f08-b787-4e4a5194139e",
   "metadata": {},
   "outputs": [],
   "source": [
    "array_a[-1]"
   ]
  },
  {
   "cell_type": "code",
   "execution_count": null,
   "id": "af0cdf52-edff-47b7-bd56-6966242f0c27",
   "metadata": {},
   "outputs": [],
   "source": [
    "array_a = np.array([[1,2,3],[4,5,6]])\n",
    "array_a"
   ]
  },
  {
   "cell_type": "code",
   "execution_count": null,
   "id": "4edaf5e1-eed3-4dce-9b91-de2bc033b2e4",
   "metadata": {},
   "outputs": [],
   "source": [
    "array_a[0,2] = 9\n",
    "array_a"
   ]
  },
  {
   "cell_type": "code",
   "execution_count": null,
   "id": "59823377-4ff6-4b85-9f81-63a64f08f059",
   "metadata": {},
   "outputs": [],
   "source": [
    "array_a[0] = 9\n",
    "array_a"
   ]
  },
  {
   "cell_type": "code",
   "execution_count": null,
   "id": "9897877b-e050-4bbb-99d2-2751c3d3854a",
   "metadata": {},
   "outputs": [],
   "source": [
    "array_a[:,0] = 9\n",
    "array_a"
   ]
  },
  {
   "cell_type": "code",
   "execution_count": null,
   "id": "8a5d57d8-1c74-4b8d-9305-b430b9990c7a",
   "metadata": {},
   "outputs": [],
   "source": [
    "list_a = [8, 7, 8]\n",
    "array_a[0] = list_a\n",
    "array_a"
   ]
  },
  {
   "cell_type": "code",
   "execution_count": null,
   "id": "97747bba-93f5-4e01-8634-cc1e180d3fd8",
   "metadata": {},
   "outputs": [],
   "source": [
    "type(array_a[0])"
   ]
  },
  {
   "cell_type": "code",
   "execution_count": null,
   "id": "dbf02e6e-60e9-4972-ac26-cdb3adab229e",
   "metadata": {},
   "outputs": [],
   "source": [
    "array_a[:] = 9\n",
    "array_a"
   ]
  },
  {
   "cell_type": "code",
   "execution_count": null,
   "id": "7d3c17db-1266-491f-82dd-d9b78772559c",
   "metadata": {},
   "outputs": [],
   "source": [
    "type(array_a)"
   ]
  },
  {
   "cell_type": "code",
   "execution_count": null,
   "id": "82fc5ab3-31be-4211-800d-f8acf6a370c4",
   "metadata": {},
   "outputs": [],
   "source": []
  },
  {
   "cell_type": "markdown",
   "id": "1cd58cb9-42e8-472d-b571-37b4a123bd7b",
   "metadata": {},
   "source": [
    "# Numpy Fundamentals"
   ]
  },
  {
   "cell_type": "code",
   "execution_count": null,
   "id": "469207aa-ad17-4ec4-9783-256f47cdfdd1",
   "metadata": {},
   "outputs": [],
   "source": [
    "import numpy as np"
   ]
  },
  {
   "cell_type": "code",
   "execution_count": null,
   "id": "c5b88d3f-4c4b-4611-96cf-2754413c8951",
   "metadata": {},
   "outputs": [],
   "source": [
    "array_a = np.array([[1,2,3],[4,5,6]])\n",
    "print(array_a)"
   ]
  },
  {
   "cell_type": "code",
   "execution_count": null,
   "id": "e8fefbfb-822f-40c1-9b23-4e053ea3d42a",
   "metadata": {},
   "outputs": [],
   "source": []
  },
  {
   "cell_type": "code",
   "execution_count": null,
   "id": "475da6f6-f42c-4443-8790-68c2e59b08ba",
   "metadata": {},
   "outputs": [],
   "source": []
  },
  {
   "cell_type": "code",
   "execution_count": null,
   "id": "f1118273-d6ab-481e-9603-047453d434ad",
   "metadata": {},
   "outputs": [],
   "source": []
  }
 ],
 "metadata": {
  "kernelspec": {
   "display_name": "Python [conda env:base] *",
   "language": "python",
   "name": "conda-base-py"
  },
  "language_info": {
   "codemirror_mode": {
    "name": "ipython",
    "version": 3
   },
   "file_extension": ".py",
   "mimetype": "text/x-python",
   "name": "python",
   "nbconvert_exporter": "python",
   "pygments_lexer": "ipython3",
   "version": "3.12.8"
  }
 },
 "nbformat": 4,
 "nbformat_minor": 5
}
