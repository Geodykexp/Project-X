{
 "cells": [
  {
   "cell_type": "code",
   "execution_count": 1,
   "id": "08b11b28-5859-493d-aa78-9acb90613e7b",
   "metadata": {},
   "outputs": [],
   "source": [
    "import pandas as pd"
   ]
  },
  {
   "cell_type": "code",
   "execution_count": 2,
   "id": "9e625bca-7373-487f-95dd-790a216891eb",
   "metadata": {},
   "outputs": [
    {
     "data": {
      "text/plain": [
       "'2.2.3'"
      ]
     },
     "execution_count": 2,
     "metadata": {},
     "output_type": "execute_result"
    }
   ],
   "source": [
    "pd.__version__"
   ]
  },
  {
   "cell_type": "code",
   "execution_count": null,
   "id": "9e5bf832-412a-40ff-832c-37bf31cce46c",
   "metadata": {},
   "outputs": [],
   "source": [
    "import pandas as pd"
   ]
  },
  {
   "cell_type": "code",
   "execution_count": 6,
   "id": "8bdb840c-b4c1-4cbd-bddc-5c56e9567e07",
   "metadata": {
    "scrolled": true
   },
   "outputs": [
    {
     "name": "stdout",
     "output_type": "stream",
     "text": [
      "  ProductName  ProductPrice\n",
      "0   product A         22250\n",
      "1   product B         16600\n",
      "2   product C         12500\n"
     ]
    }
   ],
   "source": [
    "import pandas as pd\n",
    "\n",
    "data = {\n",
    "    'ProductName': ['product A', 'product B', 'product C'],\n",
    "    'ProductPrice': [22250, 16600, 12500]\n",
    "}\n",
    "df = pd.DataFrame(data)  # Corrected the capitalization here\n",
    "print(df)"
   ]
  },
  {
   "cell_type": "code",
   "execution_count": 9,
   "id": "55ad514a-9965-47b9-99f2-b5f1fd7113a2",
   "metadata": {},
   "outputs": [
    {
     "name": "stdout",
     "output_type": "stream",
     "text": [
      "                 Name  Age  Working Experience (Yrs.)\n",
      "0           Amy White   50                          5\n",
      "1        Jack Stewart   53                          8\n",
      "2  Richard Lauderdale   35                          3\n",
      "3        Sara Johnson   43                         10\n"
     ]
    }
   ],
   "source": [
    "import pandas as pd\n",
    "\n",
    "# Create a list of dictionaries\n",
    "\n",
    "data = [\n",
    "    {'Name': 'Amy White', 'Age': 50, 'Working Experience (Yrs.)': 5},\n",
    "    {'Name': 'Jack Stewart', 'Age': 53, 'Working Experience (Yrs.)': 8},\n",
    "    {'Name': 'Richard Lauderdale', 'Age': 35, 'Working Experience (Yrs.)': 3},\n",
    "    {'Name': 'Sara Johnson', 'Age': 43, 'Working Experience (Yrs.)': 10}\n",
    "]\n",
    "\n",
    "# Create the DataFrame from the list of dictionaries\n",
    "\n",
    "df = pd.DataFrame(data)\n",
    "\n",
    "# Print the DataFrame\n",
    "\n",
    "print(df)"
   ]
  },
  {
   "cell_type": "code",
   "execution_count": 16,
   "id": "eb30c765-8af8-4f75-b5bc-7adaeb0ad0c1",
   "metadata": {},
   "outputs": [
    {
     "name": "stdout",
     "output_type": "stream",
     "text": [
      "                 Name  Age  Working Experience (Yrs.)\n",
      "0           Amy White   50                          5\n",
      "1        Jack Stewart   53                          8\n",
      "2  Richard Lauderdale   35                          3\n",
      "3        Sara Johnson   43                         10\n"
     ]
    }
   ],
   "source": [
    "import pandas as pd\n",
    "data = [['Amy White', 50, 5], ['Jack Stewart', 53, 8], ['Richard Lauderdale', 35, 3], ['Sara Johnson', 43, 10]]\n",
    "df = pd.DataFrame(data)\n",
    "df.columns = ['Name', 'Age', 'Working Experience (Yrs.)']\n",
    "df.index = [0, 1, 2, 3]\n",
    "# Print the DataFrame\n",
    "print(df)"
   ]
  },
  {
   "cell_type": "code",
   "execution_count": 15,
   "id": "4a693e94-ba4f-4587-96be-f0a545335b55",
   "metadata": {},
   "outputs": [
    {
     "name": "stdout",
     "output_type": "stream",
     "text": [
      "                 Name  Age  Working Experience (Yrs.)\n",
      "0           Amy White   50                          5\n",
      "1        Jack Stewart   53                          8\n",
      "2  Richard Lauderdale   35                          3\n",
      "3        Sara Johnson   43                         10\n"
     ]
    }
   ],
   "source": [
    "import pandas as pd\n",
    "\n",
    "# Create the data\n",
    "data = [['Amy White', 50, 5], \n",
    "        ['Jack Stewart', 53, 8], \n",
    "        ['Richard Lauderdale', 35, 3], \n",
    "        ['Sara Johnson', 43, 10]]\n",
    "\n",
    "# Create the DataFrame\n",
    "df = pd.DataFrame(data)\n",
    "\n",
    "# Set the column names\n",
    "df.columns = ['Name', 'Age', 'Working Experience (Yrs.)']\n",
    "\n",
    "# Set the index\n",
    "df.index = [0, 1, 2, 3]\n",
    "\n",
    "# Print the DataFrame\n",
    "print(df)\n"
   ]
  },
  {
   "cell_type": "code",
   "execution_count": 18,
   "id": "f21719b0-85cc-4f7b-b0fb-0085cf6af1f6",
   "metadata": {},
   "outputs": [
    {
     "name": "stdout",
     "output_type": "stream",
     "text": [
      "                 Name  Age  Working Experience (Yrs.)\n",
      "1           Amy White   50                          5\n",
      "2        Jack Stewart   53                          8\n",
      "3  Richard Lauderdale   35                          3\n",
      "4        Sara Johnson   43                         10\n"
     ]
    }
   ],
   "source": [
    "import pandas as pd\n",
    "\n",
    "# Create the data\n",
    "data = {\n",
    "    \"Name\": ['Amy White', 'Jack Stewart', 'Richard Lauderdale', 'Sara Johnson'], \n",
    "    \"Age\": [50, 53, 35, 43], \n",
    "    \"Working Experience (Yrs.)\": [5, 8, 3, 10]\n",
    "}\n",
    "\n",
    "# Create the DataFrame\n",
    "df = pd.DataFrame(data)\n",
    "\n",
    "# Set the index starting from 1\n",
    "df.index = range(1, len(df) + 1)\n",
    "\n",
    "# Print the DataFrame\n",
    "print(df)"
   ]
  },
  {
   "cell_type": "code",
   "execution_count": null,
   "id": "382b2d7e-ed7f-4a5e-a6d5-9b32a425dc4a",
   "metadata": {},
   "outputs": [],
   "source": []
  }
 ],
 "metadata": {
  "kernelspec": {
   "display_name": "Python 3 (ipykernel)",
   "language": "python",
   "name": "python3"
  },
  "language_info": {
   "codemirror_mode": {
    "name": "ipython",
    "version": 3
   },
   "file_extension": ".py",
   "mimetype": "text/x-python",
   "name": "python",
   "nbconvert_exporter": "python",
   "pygments_lexer": "ipython3",
   "version": "3.12.8"
  }
 },
 "nbformat": 4,
 "nbformat_minor": 5
}
