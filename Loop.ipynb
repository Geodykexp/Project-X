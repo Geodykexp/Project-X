{
 "cells": [
  {
   "cell_type": "code",
   "execution_count": 2,
   "id": "f551f26f-99b4-4b4e-93d3-7d5dd5cbf653",
   "metadata": {
    "scrolled": true
   },
   "outputs": [
    {
     "name": "stdout",
     "output_type": "stream",
     "text": [
      "3\n",
      "6\n",
      "9\n",
      "12\n",
      "15\n"
     ]
    }
   ],
   "source": [
    "x = 1\n",
    "while (x < 6):\n",
    "    print (3 * x)\n",
    "    x = x + 1"
   ]
  },
  {
   "cell_type": "code",
   "execution_count": null,
   "id": "0c94bf95-19a9-4abf-a551-e48469a7222f",
   "metadata": {},
   "outputs": [],
   "source": []
  },
  {
   "cell_type": "markdown",
   "id": "ca200e23-6bb4-436e-8145-a4cad4930b74",
   "metadata": {},
   "source": [
    "# Functions"
   ]
  },
  {
   "cell_type": "code",
   "execution_count": 5,
   "id": "7b796ee3-a136-4a08-8b52-feac5287aa58",
   "metadata": {},
   "outputs": [
    {
     "name": "stdout",
     "output_type": "stream",
     "text": [
      "The factorial is: 3628800\n"
     ]
    }
   ],
   "source": [
    "def factorial(n):\n",
    "    if n==0:\n",
    "        return 1\n",
    "    else:\n",
    "        return n * factorial(n-1)\n",
    "print(\"The factorial is:\", factorial(10))\n"
   ]
  },
  {
   "cell_type": "code",
   "execution_count": 7,
   "id": "0f26d31c-7041-40cf-838b-13cf3103e581",
   "metadata": {},
   "outputs": [
    {
     "name": "stdin",
     "output_type": "stream",
     "text": [
      "Enter a number 90\n"
     ]
    },
    {
     "name": "stdout",
     "output_type": "stream",
     "text": [
      "The factorial is: 1485715964481761497309522733620825737885569961284688766942216863704985393094065876545992131370884059645617234469978112000000000000000000000\n"
     ]
    }
   ],
   "source": [
    "def factorial(n):\n",
    "    if n==0:\n",
    "        return 1\n",
    "    else:\n",
    "        return n * factorial(n-1)\n",
    "num = int(input(\"Enter a number\"))\n",
    "print(\"The factorial is:\", factorial(num))\n"
   ]
  },
  {
   "cell_type": "code",
   "execution_count": 10,
   "id": "ab60ff6a-6fec-4a4d-9fe9-6fe730b7daa6",
   "metadata": {},
   "outputs": [
    {
     "name": "stdin",
     "output_type": "stream",
     "text": [
      "Enter numerator 4\n",
      "Enter denominator 2\n"
     ]
    },
    {
     "name": "stdout",
     "output_type": "stream",
     "text": [
      "(4, 2)\n"
     ]
    }
   ],
   "source": [
    "def division(numerator, denominator):\n",
    "    result = numerator/ denominator\n",
    "    return result\n",
    "num1 = int(input(\"Enter numerator\"))\n",
    "num2 = int(input(\"Enter denominator\"))\n",
    "res = (num1, num2)\n",
    "print(res)"
   ]
  },
  {
   "cell_type": "code",
   "execution_count": 16,
   "id": "9e885348-b3f0-476c-aed0-cb2f5d2fb6f8",
   "metadata": {},
   "outputs": [
    {
     "name": "stdin",
     "output_type": "stream",
     "text": [
      "Enter numerator 6\n",
      "Enter denominator 3\n"
     ]
    },
    {
     "name": "stdout",
     "output_type": "stream",
     "text": [
      "2.0\n"
     ]
    }
   ],
   "source": [
    "def division(numerator, denominator):\n",
    "    result = numerator/ denominator\n",
    "    return result\n",
    "num1 = int(input(\"Enter numerator\"))\n",
    "num2 = int(input(\"Enter denominator\"))\n",
    "result = division(num1,num2)\n",
    "print(result)"
   ]
  },
  {
   "cell_type": "code",
   "execution_count": 18,
   "id": "fa9b5487-2b27-46cb-b95f-deee91355a6a",
   "metadata": {},
   "outputs": [
    {
     "name": "stdin",
     "output_type": "stream",
     "text": [
      "Enter number 1: 3\n",
      "Enter number 2: 4\n",
      "Enter number 3: 2\n"
     ]
    },
    {
     "name": "stdout",
     "output_type": "stream",
     "text": [
      "24\n"
     ]
    }
   ],
   "source": [
    "def multiply(num1,num2,num3):\n",
    "    result = num1*num2*num3\n",
    "    return result\n",
    "num1 = int(input(\"Enter number 1:\"))\n",
    "num2 = int(input(\"Enter number 2:\"))\n",
    "num3 = int(input(\"Enter number 3:\"))\n",
    "result = multiply(num1,num2,num3)\n",
    "print (result)"
   ]
  },
  {
   "cell_type": "code",
   "execution_count": null,
   "id": "1647b946-efb3-4d50-823d-7124fd3bb352",
   "metadata": {},
   "outputs": [],
   "source": []
  },
  {
   "cell_type": "markdown",
   "id": "9ce4da26-b45a-4b13-adf7-677754f21e15",
   "metadata": {},
   "source": [
    "# REGEX"
   ]
  },
  {
   "cell_type": "code",
   "execution_count": 29,
   "id": "7b7dcb45-8d91-431d-8e41-66f0ce3dfdab",
   "metadata": {},
   "outputs": [
    {
     "name": "stdout",
     "output_type": "stream",
     "text": [
      "<re.Match object; span=(19, 31), match='0318-3526827'>\n"
     ]
    }
   ],
   "source": [
    "import re\n",
    "text = \"My phone number is 0318-3526827 and my friend's is Al\"\n",
    "pattern = r'\\b03\\d{2}-\\d{7}\\b'\n",
    "match = re.search(pattern,text)\n",
    "if match:\n",
    "    print(match)\n",
    "else:\n",
    "    print(\"No number found\")"
   ]
  },
  {
   "cell_type": "code",
   "execution_count": 32,
   "id": "892788aa-52e1-494e-ba46-922178e94b9e",
   "metadata": {},
   "outputs": [
    {
     "name": "stdout",
     "output_type": "stream",
     "text": [
      "0318-3526827\n"
     ]
    }
   ],
   "source": [
    "import re\n",
    "\n",
    "text = \"My phone number is 0318-3526827 and my friend's is Al\"\n",
    "pattern = r'\\b03\\d{2}-\\d{7}\\b'\n",
    "match = re.search(pattern, text)\n",
    "\n",
    "if match:\n",
    "    print(match.group())  # Extract and print the matched number\n",
    "else:\n",
    "    print(\"No number found\")\n"
   ]
  },
  {
   "cell_type": "code",
   "execution_count": null,
   "id": "fe0d1bd2-c356-469c-b31f-519fc2e95011",
   "metadata": {},
   "outputs": [],
   "source": []
  }
 ],
 "metadata": {
  "kernelspec": {
   "display_name": "Kernel_1",
   "language": "python",
   "name": "kernel_1"
  },
  "language_info": {
   "codemirror_mode": {
    "name": "ipython",
    "version": 3
   },
   "file_extension": ".py",
   "mimetype": "text/x-python",
   "name": "python",
   "nbconvert_exporter": "python",
   "pygments_lexer": "ipython3",
   "version": "3.12.8"
  }
 },
 "nbformat": 4,
 "nbformat_minor": 5
}
